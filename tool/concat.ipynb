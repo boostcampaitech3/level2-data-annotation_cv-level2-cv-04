{
 "cells": [
  {
   "cell_type": "code",
   "execution_count": 1,
   "metadata": {},
   "outputs": [],
   "source": [
    "import os.path as osp\n",
    "import json\n",
    "import os\n",
    "import copy\n",
    "from tqdm import tqdm"
   ]
  },
  {
   "cell_type": "code",
   "execution_count": 2,
   "metadata": {},
   "outputs": [],
   "source": [
    "json_data_list=['train.json']"
   ]
  },
  {
   "cell_type": "code",
   "execution_count": 3,
   "metadata": {},
   "outputs": [
    {
     "name": "stdout",
     "output_type": "stream",
     "text": [
      "1824\n",
      "1824\n"
     ]
    }
   ],
   "source": [
    "ret_json={\"images\":{}}\n",
    "\n",
    "for json_ in json_data_list:\n",
    "    with open(json_,'r') as f:\n",
    "        json_data=json.load(f)\n",
    "    print(len(json_data['images']))\n",
    "    ret_json['images'].update(json_data['images'])\n",
    "print(len(ret_json['images']))"
   ]
  },
  {
   "cell_type": "code",
   "execution_count": 4,
   "metadata": {},
   "outputs": [
    {
     "name": "stderr",
     "output_type": "stream",
     "text": [
      "100%|██████████| 1824/1824 [00:00<00:00, 14438.47it/s]"
     ]
    },
    {
     "name": "stdout",
     "output_type": "stream",
     "text": [
      "normal polygon count : 26545\n",
      "deleted 946 over polygon\n"
     ]
    },
    {
     "name": "stderr",
     "output_type": "stream",
     "text": [
      "\n"
     ]
    }
   ],
   "source": [
    "anno = ret_json['images']\n",
    "\n",
    "anno_temp = copy.deepcopy(anno)\n",
    "\n",
    "count = 0\n",
    "count_normal = 0\n",
    "count_none_anno = 0\n",
    "\n",
    "for img_name, img_info in tqdm(anno.items()) :\n",
    "    if img_info['words'] == {} :\n",
    "        del(anno_temp[img_name])\n",
    "        count_none_anno += 1\n",
    "        continue\n",
    "    for obj, obj_info in img_info['words'].items() :\n",
    "        # revised 버전일 경우 여기를 지워주세요\n",
    "        #anno_temp[img_name]['words'][obj]['illegibility'] = False\n",
    "        \n",
    "        if len(img_info['words'][obj]['points']) == 4 :\n",
    "            count_normal += 1\n",
    "            continue\n",
    "        # 폴리곤 수정시에는 여기 부분을 수정해주시면 됩니다!!\n",
    "        # 다음 예제는 polygon이 넘치거나 모자를 경우 해당 폴리곤을 object를 삭제처리\n",
    "        elif len(img_info['words'][obj]['points']) < 4 :\n",
    "            del(anno_temp[img_name]['words'][obj])\n",
    "            if anno_temp[img_name]['words'] == {} :\n",
    "                del(anno_temp[img_name])\n",
    "                count_none_anno += 1\n",
    "                continue\n",
    "        else :\n",
    "            # 현동님의 기여로 만들어진 부분\n",
    "            over_polygon_temp = copy.deepcopy(anno_temp[img_name]['words'][obj])\n",
    "            over_poly_region = copy.deepcopy(over_polygon_temp)\n",
    "            over_poly_region['points'] = []\n",
    "            for index in range(len(img_info['words'][obj]['points'])//2 -1):\n",
    "                over_poly_region['points'].append(over_polygon_temp['points'][index])\n",
    "                over_poly_region['points'].append(over_polygon_temp['points'][index+1])\n",
    "                over_poly_region['points'].append(over_polygon_temp['points'][-index-1])\n",
    "                over_poly_region['points'].append(over_polygon_temp['points'][-index])\n",
    "                anno_temp[img_name]['words'][obj+f'{index+911}'] = copy.deepcopy(over_poly_region) #911 현동님 생일 >_<\n",
    "                over_poly_region['points'] = []\n",
    "            del anno_temp[img_name]['words'][obj]\n",
    "            # 폴리곤을 사각단위로 잘라서 각 부분을 word의 영역으로 사용하는 코드입니다.\n",
    "            if anno_temp[img_name]['words'] == {} :\n",
    "                del(anno_temp[img_name])\n",
    "                count_none_anno += 1\n",
    "                continue\n",
    "            count += 1\n",
    "            \n",
    "print(f'normal polygon count : {count_normal}')\n",
    "print(f'deleted {count} over polygon')\n",
    "\n",
    "anno = {'images': anno_temp}"
   ]
  },
  {
   "cell_type": "code",
   "execution_count": 5,
   "metadata": {},
   "outputs": [],
   "source": [
    "with open('train3.json','w') as f:\n",
    "    json.dump(anno,f,indent='\\t')"
   ]
  }
 ],
 "metadata": {
  "interpreter": {
   "hash": "d4d1e4263499bec80672ea0156c357c1ee493ec2b1c70f0acce89fc37c4a6abe"
  },
  "kernelspec": {
   "display_name": "Python 3 (ipykernel)",
   "language": "python",
   "name": "python3"
  },
  "language_info": {
   "codemirror_mode": {
    "name": "ipython",
    "version": 3
   },
   "file_extension": ".py",
   "mimetype": "text/x-python",
   "name": "python",
   "nbconvert_exporter": "python",
   "pygments_lexer": "ipython3",
   "version": "3.8.5"
  }
 },
 "nbformat": 4,
 "nbformat_minor": 4
}
